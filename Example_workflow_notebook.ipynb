{
 "cells": [
  {
   "cell_type": "code",
   "execution_count": 1,
   "metadata": {},
   "outputs": [],
   "source": [
    "import os"
   ]
  },
  {
   "cell_type": "code",
   "execution_count": 2,
   "metadata": {},
   "outputs": [
    {
     "name": "stdout",
     "output_type": "stream",
     "text": [
      "Get stain matrix for given image.\n",
      "Input path: Example_input_images/Small_128x128/1.png\n",
      "Config path: /home/volodymyr/GitHub/AutomaticColorUnmixing_VC_branch/config.json\n",
      "Mask path: \n",
      "Output path: Example_output_images/Testing\n",
      "Number of processes: 1\n",
      "Overwrite: False\n",
      "Mode: file\n",
      "Example_output_images/Testing\n",
      "\n",
      "Processing: 1\n",
      "\n",
      "Searching stains...\n"
     ]
    },
    {
     "name": "stderr",
     "output_type": "stream",
     "text": [
      "Progress: 100%|██████████| 16/16 [00:00<00:00, 30.74tile/s]\n"
     ]
    },
    {
     "name": "stdout",
     "output_type": "stream",
     "text": [
      "Plotting thumbnail...\n",
      "Stain matrix successfully created!\n"
     ]
    },
    {
     "name": "stderr",
     "output_type": "stream",
     "text": [
      "Exception ignored in: <function Pool.__del__ at 0x7fe9cb615ca0>\n",
      "Traceback (most recent call last):\n",
      "  File \"/home/volodymyr/miniconda3/envs/AutoUnmix/lib/python3.8/multiprocessing/pool.py\", line 268, in __del__\n",
      "  File \"/home/volodymyr/miniconda3/envs/AutoUnmix/lib/python3.8/multiprocessing/queues.py\", line 362, in put\n",
      "AttributeError: 'NoneType' object has no attribute 'dumps'\n"
     ]
    }
   ],
   "source": [
    "# Derive stain matrix given an image\n",
    "input_image_file = \"Example_input_images/Small_128x128/1.png\"\n",
    "config_file = \"config.json\"\n",
    "\n",
    "stain_matrix_outdir = \"Example_output_images/Testing\"\n",
    "\n",
    "# Check if output path exists and make directory if not\n",
    "if os.path.exists(stain_matrix_outdir) == False:\n",
    "    os.mkdir(stain_matrix_outdir)\n",
    "\n",
    "# Run stain matrix command\n",
    "os.system(f'python get_stain_matrix.py -i {input_image_file} -c {config_file} -d {stain_matrix_outdir}')\n",
    "\n",
    "# check that output files were created\n",
    "if os.path.exists(os.path.join(stain_matrix_outdir, 'stain_matrix.txt')):\n",
    "    print('Stain matrix successfully created!')\n"
   ]
  },
  {
   "cell_type": "code",
   "execution_count": 3,
   "metadata": {},
   "outputs": [
    {
     "name": "stdout",
     "output_type": "stream",
     "text": [
      "Apply stain matrix on given image.\n",
      "Input path: Example_input_images/Small_128x128/1.png\n",
      "Input path: config.json\n",
      "Stain matrix path: Example_output_images/Testing/stain_matrix.txt\n",
      "Mask path: \n",
      "Output path: Example_output_images/Testing/test_output\n",
      "Workdir: \n",
      "Number of processes: 1\n",
      "Overwrite: False\n",
      "Mode: file\n",
      "Processing: 1\n",
      "(128, 128, 3)\n",
      "Processing took: 0.012756586074829102s\n",
      "Files with an appropriate outfile identifier exist - likely that stain separation was successful\n"
     ]
    }
   ],
   "source": [
    "# Use stain matrix to separate stains\n",
    "input_image_file = \"Example_input_images/Small_128x128/1.png\"\n",
    "config_file = \"config.json\"\n",
    "stain_matrix_file = os.path.join(stain_matrix_outdir, \"stain_matrix.txt\")\n",
    "outdir = \"Example_output_images/Testing\"\n",
    "outfile_identifier = \"test_output\" # This will preprend the names of output (stain separated) files\n",
    "\n",
    "# Check if output path exists and make directory if not\n",
    "if os.path.exists(outdir) == False:\n",
    "    os.mkdir(outdir)\n",
    "\n",
    "# Run color deconvolution command\n",
    "os.system(f'python apply_color_deconv.py -i {input_image_file} -c {config_file} -s {stain_matrix_file} -d {os.path.join(outdir, outfile_identifier)}')\n",
    "\n",
    "# check that output files exist\n",
    "outfiles = os.listdir(outdir)\n",
    "outfiles = [outfile for outfile in outfiles if outfile_identifier in outfile]\n",
    "if len(outfiles) > 0:\n",
    "    print('Files with an appropriate outfile identifier exist - likely that stain separation was successful')"
   ]
  },
  {
   "cell_type": "code",
   "execution_count": null,
   "metadata": {},
   "outputs": [],
   "source": []
  }
 ],
 "metadata": {
  "interpreter": {
   "hash": "4ca0b182bdd10b709e167ca3330d5e52cda3ceccf5dce8aa561d5062feface99"
  },
  "kernelspec": {
   "display_name": "Python 3.8.12 ('AutoUnmix')",
   "language": "python",
   "name": "python3"
  },
  "language_info": {
   "codemirror_mode": {
    "name": "ipython",
    "version": 3
   },
   "file_extension": ".py",
   "mimetype": "text/x-python",
   "name": "python",
   "nbconvert_exporter": "python",
   "pygments_lexer": "ipython3",
   "version": "3.8.12"
  },
  "orig_nbformat": 4
 },
 "nbformat": 4,
 "nbformat_minor": 2
}
